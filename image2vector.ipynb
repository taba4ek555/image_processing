{
  "cells": [
    {
      "cell_type": "markdown",
      "metadata": {
        "id": "view-in-github",
        "colab_type": "text"
      },
      "source": [
        "<a href=\"https://colab.research.google.com/github/taba4ek555/image_processing/blob/main/image2vector.ipynb\" target=\"_parent\"><img src=\"https://colab.research.google.com/assets/colab-badge.svg\" alt=\"Open In Colab\"/></a>"
      ]
    },
    {
      "cell_type": "markdown",
      "metadata": {
        "id": "6VZuc8Haldn6"
      },
      "source": [
        "# Пример векторизации изображений\n"
      ]
    },
    {
      "cell_type": "code",
      "source": [
        "!git clone 'https://github.com/taba4ek555/image_processing'"
      ],
      "metadata": {
        "colab": {
          "base_uri": "https://localhost:8080/"
        },
        "id": "vNdMTDTllte3",
        "outputId": "eb8ce48d-3421-46fc-f1c2-32ce9e405501"
      },
      "execution_count": 6,
      "outputs": [
        {
          "output_type": "stream",
          "name": "stdout",
          "text": [
            "Cloning into 'image_processing'...\n",
            "remote: Enumerating objects: 2330, done.\u001b[K\n",
            "remote: Counting objects: 100% (178/178), done.\u001b[K\n",
            "remote: Compressing objects: 100% (157/157), done.\u001b[K\n",
            "remote: Total 2330 (delta 28), reused 155 (delta 16), pack-reused 2152 (from 1)\u001b[K\n",
            "Receiving objects: 100% (2330/2330), 126.00 MiB | 37.68 MiB/s, done.\n",
            "Resolving deltas: 100% (29/29), done.\n"
          ]
        }
      ]
    },
    {
      "cell_type": "markdown",
      "metadata": {
        "id": "GbdJmHfrldn-"
      },
      "source": [
        "## Упрощенно по полутонам\n"
      ]
    },
    {
      "cell_type": "code",
      "execution_count": 13,
      "metadata": {
        "colab": {
          "base_uri": "https://localhost:8080/"
        },
        "id": "YhbGlzqWldn_",
        "outputId": "350301ac-d6d5-45fc-c7aa-ef188aad8ad3"
      },
      "outputs": [
        {
          "output_type": "stream",
          "name": "stdout",
          "text": [
            "Requirement already satisfied: svgwrite in /usr/local/lib/python3.10/dist-packages (1.4.3)\n"
          ]
        }
      ],
      "source": [
        "from PIL import Image\n",
        "!pip install svgwrite\n",
        "import svgwrite\n",
        "\n",
        "\n",
        "def raster_to_vector(input_file, output_file):\n",
        "    # Открываем изображение и конвертируем в черно-белый формат\n",
        "    image = Image.open(input_file).convert(\"L\")\n",
        "    bw_image = image.point(lambda x: 0 if x < 128 else 255, \"1\")\n",
        "\n",
        "    # Получаем размер изображения\n",
        "    width, height = bw_image.size\n",
        "\n",
        "    # Создаем новый SVG файл\n",
        "    dwg = svgwrite.Drawing(output_file, profile=\"tiny\", size=(width, height))\n",
        "\n",
        "    # Обходим все пиксели изображения и добавляем линии в SVG\n",
        "    for y in range(height):\n",
        "        for x in range(width):\n",
        "            if bw_image.getpixel((x, y)) == 0:  # Черный пиксель\n",
        "                # Рисуем квадрат для черного пикселя\n",
        "                dwg.add(dwg.rect(insert=(x, y), size=(1, 1), fill=\"black\"))\n",
        "\n",
        "    # Сохраняем SVG файл\n",
        "    dwg.save()\n",
        "\n",
        "\n",
        "# Пример использования\n",
        "raster_to_vector(\"/content/image_processing/data/raster.png\", \"output_image.svg\")"
      ]
    },
    {
      "cell_type": "markdown",
      "metadata": {
        "id": "KgQHWNYDldoC"
      },
      "source": [
        "## C распознаванием контуров\n"
      ]
    },
    {
      "cell_type": "code",
      "execution_count": 14,
      "metadata": {
        "id": "Y69fW4JWldoD"
      },
      "outputs": [],
      "source": [
        "import cv2\n",
        "import numpy as np\n",
        "import svgwrite\n",
        "from PIL import Image\n",
        "\n",
        "\n",
        "def raster_to_vector_with_contours(input_file, output_file):\n",
        "    # Открываем изображение и конвертируем в серый формат\n",
        "    image = cv2.imread(input_file, cv2.IMREAD_GRAYSCALE)\n",
        "\n",
        "    # Применяем алгоритм Кэнни для обнаружения краев\n",
        "    edges = cv2.Canny(image, 100, 200)\n",
        "\n",
        "    # Находим контуры на изображении\n",
        "    contours, _ = cv2.findContours(edges, cv2.RETR_TREE, cv2.CHAIN_APPROX_SIMPLE)\n",
        "\n",
        "    # Получаем размер изображения\n",
        "    height, width = edges.shape\n",
        "\n",
        "    # Создаем новый SVG файл\n",
        "    dwg = svgwrite.Drawing(output_file, profile=\"tiny\", size=(width, height))\n",
        "\n",
        "    # Добавляем контуры в SVG файл\n",
        "    for contour in contours:\n",
        "        # Преобразуем контур в список кортежей с координатами\n",
        "        points = [(int(point[0][0]), int(point[0][1])) for point in contour]\n",
        "        if points:\n",
        "            # Добавляем полилинию в SVG файл\n",
        "            dwg.add(dwg.polyline(points, stroke=\"green\", fill=\"none\"))\n",
        "\n",
        "    # Сохраняем SVG файл\n",
        "    dwg.save()\n",
        "\n",
        "\n",
        "# Пример использования\n",
        "raster_to_vector_with_contours(\"/content/image_processing/data/raster.png\", \"output_image.svg\")"
      ]
    }
  ],
  "metadata": {
    "kernelspec": {
      "display_name": ".venv",
      "language": "python",
      "name": "python3"
    },
    "language_info": {
      "codemirror_mode": {
        "name": "ipython",
        "version": 3
      },
      "file_extension": ".py",
      "mimetype": "text/x-python",
      "name": "python",
      "nbconvert_exporter": "python",
      "pygments_lexer": "ipython3",
      "version": "3.10.11"
    },
    "colab": {
      "provenance": [],
      "include_colab_link": true
    }
  },
  "nbformat": 4,
  "nbformat_minor": 0
}